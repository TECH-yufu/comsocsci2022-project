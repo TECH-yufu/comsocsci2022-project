{
 "cells": [
  {
   "cell_type": "markdown",
   "metadata": {},
   "source": [
    "# Introduction to data"
   ]
  },
  {
   "cell_type": "markdown",
   "metadata": {},
   "source": [
    "The dataset consists of product reviews and metadata of products in the \"Grocery and Gourmet Food\" category on Amazon and was collected by researchers at UCSD.\n",
    "\n",
    "The original reviews dataset has 142.8 million reviews spanning from May 1996 - July 2014. However, we use only use a subset of the dataset where all users and items have at least 5 reviews in the \"Grocery and Gourmet Food\" category, called food 5-core. The food 5-core dataset is 108 MB and contains 151,254 reviews, with each review having 9 attributes:\n",
    "\n",
    "- <code>reviewerID</code> - ID of the reviewer, e.g. A2SUAM1J3GNN3B\n",
    "- <code>asin </code> - ID of the product, e.g. 0000013714\n",
    "- <code>reviewerName </code> - name of the reviewer\n",
    "- <code>helpful </code> - helpfulness rating of the review, e.g. 2/3\n",
    "- <code>reviewText </code> - text of the review\n",
    "- <code>overall </code> - rating of the product\n",
    "- <code>summary </code> - summary of the review\n",
    "- <code>unixReviewTime </code> - time of the review (unix time)\n",
    "- <code>reviewTime </code> - time of the review (raw)\n",
    "\n",
    "The metadata dataset contains metadata for 171,761 products in the \"Gorcery and Gourmet Food\" category and is 182 MB. Each product has 9 attributes:\n",
    "\n",
    "- <code>asin </code> - ID of the product, e.g. 0000031852\n",
    "- <code>title </code> - name of the product\n",
    "- <code>price </code> - price in US dollars (at time of crawl)\n",
    "- <code>imUrl </code> - url of the product image\n",
    "- <code>related </code> - related products (also bought, also viewed, bought together, buy after viewing)\n",
    "- <code>salesRank </code> - sales rank information\n",
    "- <code>brand </code> - brand name\n",
    "- <code>categories </code> - list of categories the product belongs to"
   ]
  },
  {
   "cell_type": "markdown",
   "metadata": {},
   "source": [
    "# Project Idea"
   ]
  },
  {
   "cell_type": "markdown",
   "metadata": {},
   "source": [
    ":D"
   ]
  },
  {
   "cell_type": "markdown",
   "metadata": {},
   "source": [
    "# Explore data"
   ]
  },
  {
   "cell_type": "code",
   "execution_count": 13,
   "metadata": {
    "scrolled": true
   },
   "outputs": [],
   "source": [
    "import pandas as pd\n",
    "import json\n",
    "import gzip\n",
    "\n",
    "def parse(path):\n",
    "    g = gzip.open(path, 'rb')\n",
    "    for l in g:\n",
    "        yield json.loads(l)\n",
    "\n",
    "def getDF(path):\n",
    "    i = 0\n",
    "    df = {}\n",
    "    for d in parse(path):\n",
    "        df[i] = d\n",
    "        i += 1\n",
    "    return pd.DataFrame.from_dict(df, orient='index')\n",
    "\n",
    "def parse2(path):\n",
    "    g = gzip.open(path, 'rb')\n",
    "    for l in g:\n",
    "        yield eval(l)\n",
    "\n",
    "def getDF2(path):\n",
    "    i = 0\n",
    "    df = {}\n",
    "    for d in parse2(path):\n",
    "        df[i] = d\n",
    "        i += 1\n",
    "    return pd.DataFrame.from_dict(df, orient='index')"
   ]
  },
  {
   "cell_type": "code",
   "execution_count": 14,
   "metadata": {},
   "outputs": [],
   "source": [
    "review_df = getDF('data/reviews_Grocery_and_Gourmet_Food_5.json.gz')\n",
    "# review_df"
   ]
  },
  {
   "cell_type": "code",
   "execution_count": 15,
   "metadata": {},
   "outputs": [],
   "source": [
    "product_df = getDF2('data/meta_Grocery_and_Gourmet_Food.json.gz')\n",
    "# product_df"
   ]
  },
  {
   "cell_type": "markdown",
   "metadata": {},
   "source": [
    "Verify that there indeed are at least 5 reviews for each user and product."
   ]
  },
  {
   "cell_type": "code",
   "execution_count": 16,
   "metadata": {},
   "outputs": [],
   "source": [
    "import numpy as np\n",
    "from collections import Counter"
   ]
  },
  {
   "cell_type": "code",
   "execution_count": 17,
   "metadata": {},
   "outputs": [],
   "source": [
    "asin_counts = Counter(list(review_df['asin']))\n",
    "reviewerID_counts = Counter(list(review_df['reviewerID']))\n",
    "# print(asin_counts)\n",
    "# print(reviewerID_counts)"
   ]
  },
  {
   "cell_type": "markdown",
   "metadata": {},
   "source": [
    "# Preprocess"
   ]
  },
  {
   "cell_type": "code",
   "execution_count": 18,
   "metadata": {
    "scrolled": false
   },
   "outputs": [
    {
     "data": {
      "text/html": [
       "<div>\n",
       "<style scoped>\n",
       "    .dataframe tbody tr th:only-of-type {\n",
       "        vertical-align: middle;\n",
       "    }\n",
       "\n",
       "    .dataframe tbody tr th {\n",
       "        vertical-align: top;\n",
       "    }\n",
       "\n",
       "    .dataframe thead th {\n",
       "        text-align: right;\n",
       "    }\n",
       "</style>\n",
       "<table border=\"1\" class=\"dataframe\">\n",
       "  <thead>\n",
       "    <tr style=\"text-align: right;\">\n",
       "      <th></th>\n",
       "      <th>asin</th>\n",
       "      <th>description</th>\n",
       "      <th>title</th>\n",
       "      <th>imUrl</th>\n",
       "      <th>related</th>\n",
       "      <th>salesRank</th>\n",
       "      <th>categories</th>\n",
       "      <th>price</th>\n",
       "      <th>brand</th>\n",
       "    </tr>\n",
       "  </thead>\n",
       "  <tbody>\n",
       "    <tr>\n",
       "      <th>0</th>\n",
       "      <td>0657745316</td>\n",
       "      <td>This is real vanilla extract made with only 3 ...</td>\n",
       "      <td>100 Percent All Natural Vanilla Extract</td>\n",
       "      <td>http://ecx.images-amazon.com/images/I/41gFi5h0...</td>\n",
       "      <td>{'also_viewed': ['B001GE8N4Y']}</td>\n",
       "      <td>{'Grocery &amp; Gourmet Food': 374004}</td>\n",
       "      <td>[[Grocery &amp; Gourmet Food]]</td>\n",
       "      <td>NaN</td>\n",
       "      <td>NaN</td>\n",
       "    </tr>\n",
       "    <tr>\n",
       "      <th>1</th>\n",
       "      <td>0700026444</td>\n",
       "      <td>Silverpot Tea, Pure Darjeeling, is an exquisit...</td>\n",
       "      <td>Pure Darjeeling Tea: Loose Leaf</td>\n",
       "      <td>http://ecx.images-amazon.com/images/I/51hs8sox...</td>\n",
       "      <td>NaN</td>\n",
       "      <td>{'Grocery &amp; Gourmet Food': 620307}</td>\n",
       "      <td>[[Grocery &amp; Gourmet Food]]</td>\n",
       "      <td>NaN</td>\n",
       "      <td>NaN</td>\n",
       "    </tr>\n",
       "    <tr>\n",
       "      <th>2</th>\n",
       "      <td>1403796890</td>\n",
       "      <td>Must have for any WWE Fan\\n \\n \\n \\nFeaturing ...</td>\n",
       "      <td>WWE Kids Todler Velvet Slippers featuring John...</td>\n",
       "      <td>http://ecx.images-amazon.com/images/I/518SEST5...</td>\n",
       "      <td>NaN</td>\n",
       "      <td>NaN</td>\n",
       "      <td>[[Grocery &amp; Gourmet Food]]</td>\n",
       "      <td>3.99</td>\n",
       "      <td>NaN</td>\n",
       "    </tr>\n",
       "    <tr>\n",
       "      <th>3</th>\n",
       "      <td>141278509X</td>\n",
       "      <td>Infused with Vitamins and Electrolytes Good So...</td>\n",
       "      <td>Archer Farms Strawberry Dragonfruit Drink Mix ...</td>\n",
       "      <td>http://ecx.images-amazon.com/images/I/51CFQIis...</td>\n",
       "      <td>{'also_viewed': ['B0051IETTY']}</td>\n",
       "      <td>{'Grocery &amp; Gourmet Food': 620322}</td>\n",
       "      <td>[[Grocery &amp; Gourmet Food]]</td>\n",
       "      <td>NaN</td>\n",
       "      <td>NaN</td>\n",
       "    </tr>\n",
       "    <tr>\n",
       "      <th>4</th>\n",
       "      <td>1453060375</td>\n",
       "      <td>MiO Energy is your portable energy source givi...</td>\n",
       "      <td>Mio Energy Liquid Water Enhancer Black Cherry ...</td>\n",
       "      <td>http://ecx.images-amazon.com/images/I/51EUsMcn...</td>\n",
       "      <td>{'also_viewed': ['B006MSEOJ2', 'B005VOOQLO', '...</td>\n",
       "      <td>{'Grocery &amp; Gourmet Food': 268754}</td>\n",
       "      <td>[[Grocery &amp; Gourmet Food]]</td>\n",
       "      <td>11.99</td>\n",
       "      <td>Mio</td>\n",
       "    </tr>\n",
       "    <tr>\n",
       "      <th>...</th>\n",
       "      <td>...</td>\n",
       "      <td>...</td>\n",
       "      <td>...</td>\n",
       "      <td>...</td>\n",
       "      <td>...</td>\n",
       "      <td>...</td>\n",
       "      <td>...</td>\n",
       "      <td>...</td>\n",
       "      <td>...</td>\n",
       "    </tr>\n",
       "    <tr>\n",
       "      <th>171755</th>\n",
       "      <td>B00LDXFI6Y</td>\n",
       "      <td>Nescafe Cafe Viet is extracted from the aromat...</td>\n",
       "      <td>Nescafe Cafe Viet Vietnamese Sweetened Instant...</td>\n",
       "      <td>http://ecx.images-amazon.com/images/I/51qAGS7j...</td>\n",
       "      <td>{'also_viewed': ['B000DN8EZW']}</td>\n",
       "      <td>NaN</td>\n",
       "      <td>[[Grocery &amp; Gourmet Food]]</td>\n",
       "      <td>17.99</td>\n",
       "      <td>NaN</td>\n",
       "    </tr>\n",
       "    <tr>\n",
       "      <th>171756</th>\n",
       "      <td>B00LMMLRG6</td>\n",
       "      <td>Moon Cheese Snacks Moon Cheese High in protein...</td>\n",
       "      <td>Moon Cheese, 2 Oz. Pack of Three (Assortment)</td>\n",
       "      <td>http://ecx.images-amazon.com/images/I/419FO438...</td>\n",
       "      <td>{'also_viewed': ['B000UPFWW6']}</td>\n",
       "      <td>{'Grocery &amp; Gourmet Food': 54090}</td>\n",
       "      <td>[[Grocery &amp; Gourmet Food]]</td>\n",
       "      <td>16.95</td>\n",
       "      <td>NaN</td>\n",
       "    </tr>\n",
       "    <tr>\n",
       "      <th>171757</th>\n",
       "      <td>B00LOXAZ1Q</td>\n",
       "      <td>Sour Punch candy is the brand of mouth waterin...</td>\n",
       "      <td>Sour Punch Blue Raspberry Bite, 5 Ounce Bag --...</td>\n",
       "      <td>http://ecx.images-amazon.com/images/I/31Cj3cHD...</td>\n",
       "      <td>NaN</td>\n",
       "      <td>{'Grocery &amp; Gourmet Food': 133517}</td>\n",
       "      <td>[[Grocery &amp; Gourmet Food]]</td>\n",
       "      <td>16.55</td>\n",
       "      <td>NaN</td>\n",
       "    </tr>\n",
       "    <tr>\n",
       "      <th>171758</th>\n",
       "      <td>B00LOZ7F0S</td>\n",
       "      <td>Our Vanilla Extract made from\\nPremium, Organi...</td>\n",
       "      <td>Organic Mexican Vanilla</td>\n",
       "      <td>http://ecx.images-amazon.com/images/I/11iORwy7...</td>\n",
       "      <td>NaN</td>\n",
       "      <td>NaN</td>\n",
       "      <td>[[Grocery &amp; Gourmet Food]]</td>\n",
       "      <td>NaN</td>\n",
       "      <td>NaN</td>\n",
       "    </tr>\n",
       "    <tr>\n",
       "      <th>171759</th>\n",
       "      <td>B00LQWKDBM</td>\n",
       "      <td>NaN</td>\n",
       "      <td>Mrs. Grass Onion Soup and Dip Mix</td>\n",
       "      <td>http://ecx.images-amazon.com/images/I/31aDrMe4...</td>\n",
       "      <td>{'also_viewed': ['B00LAOSVPG', 'B001CAT22O']}</td>\n",
       "      <td>NaN</td>\n",
       "      <td>[[Grocery &amp; Gourmet Food]]</td>\n",
       "      <td>NaN</td>\n",
       "      <td>NaN</td>\n",
       "    </tr>\n",
       "  </tbody>\n",
       "</table>\n",
       "<p>171760 rows × 9 columns</p>\n",
       "</div>"
      ],
      "text/plain": [
       "              asin                                        description  \\\n",
       "0       0657745316  This is real vanilla extract made with only 3 ...   \n",
       "1       0700026444  Silverpot Tea, Pure Darjeeling, is an exquisit...   \n",
       "2       1403796890  Must have for any WWE Fan\\n \\n \\n \\nFeaturing ...   \n",
       "3       141278509X  Infused with Vitamins and Electrolytes Good So...   \n",
       "4       1453060375  MiO Energy is your portable energy source givi...   \n",
       "...            ...                                                ...   \n",
       "171755  B00LDXFI6Y  Nescafe Cafe Viet is extracted from the aromat...   \n",
       "171756  B00LMMLRG6  Moon Cheese Snacks Moon Cheese High in protein...   \n",
       "171757  B00LOXAZ1Q  Sour Punch candy is the brand of mouth waterin...   \n",
       "171758  B00LOZ7F0S  Our Vanilla Extract made from\\nPremium, Organi...   \n",
       "171759  B00LQWKDBM                                                NaN   \n",
       "\n",
       "                                                    title  \\\n",
       "0                 100 Percent All Natural Vanilla Extract   \n",
       "1                         Pure Darjeeling Tea: Loose Leaf   \n",
       "2       WWE Kids Todler Velvet Slippers featuring John...   \n",
       "3       Archer Farms Strawberry Dragonfruit Drink Mix ...   \n",
       "4       Mio Energy Liquid Water Enhancer Black Cherry ...   \n",
       "...                                                   ...   \n",
       "171755  Nescafe Cafe Viet Vietnamese Sweetened Instant...   \n",
       "171756      Moon Cheese, 2 Oz. Pack of Three (Assortment)   \n",
       "171757  Sour Punch Blue Raspberry Bite, 5 Ounce Bag --...   \n",
       "171758                            Organic Mexican Vanilla   \n",
       "171759                  Mrs. Grass Onion Soup and Dip Mix   \n",
       "\n",
       "                                                    imUrl  \\\n",
       "0       http://ecx.images-amazon.com/images/I/41gFi5h0...   \n",
       "1       http://ecx.images-amazon.com/images/I/51hs8sox...   \n",
       "2       http://ecx.images-amazon.com/images/I/518SEST5...   \n",
       "3       http://ecx.images-amazon.com/images/I/51CFQIis...   \n",
       "4       http://ecx.images-amazon.com/images/I/51EUsMcn...   \n",
       "...                                                   ...   \n",
       "171755  http://ecx.images-amazon.com/images/I/51qAGS7j...   \n",
       "171756  http://ecx.images-amazon.com/images/I/419FO438...   \n",
       "171757  http://ecx.images-amazon.com/images/I/31Cj3cHD...   \n",
       "171758  http://ecx.images-amazon.com/images/I/11iORwy7...   \n",
       "171759  http://ecx.images-amazon.com/images/I/31aDrMe4...   \n",
       "\n",
       "                                                  related  \\\n",
       "0                         {'also_viewed': ['B001GE8N4Y']}   \n",
       "1                                                     NaN   \n",
       "2                                                     NaN   \n",
       "3                         {'also_viewed': ['B0051IETTY']}   \n",
       "4       {'also_viewed': ['B006MSEOJ2', 'B005VOOQLO', '...   \n",
       "...                                                   ...   \n",
       "171755                    {'also_viewed': ['B000DN8EZW']}   \n",
       "171756                    {'also_viewed': ['B000UPFWW6']}   \n",
       "171757                                                NaN   \n",
       "171758                                                NaN   \n",
       "171759      {'also_viewed': ['B00LAOSVPG', 'B001CAT22O']}   \n",
       "\n",
       "                                 salesRank                  categories  price  \\\n",
       "0       {'Grocery & Gourmet Food': 374004}  [[Grocery & Gourmet Food]]    NaN   \n",
       "1       {'Grocery & Gourmet Food': 620307}  [[Grocery & Gourmet Food]]    NaN   \n",
       "2                                      NaN  [[Grocery & Gourmet Food]]   3.99   \n",
       "3       {'Grocery & Gourmet Food': 620322}  [[Grocery & Gourmet Food]]    NaN   \n",
       "4       {'Grocery & Gourmet Food': 268754}  [[Grocery & Gourmet Food]]  11.99   \n",
       "...                                    ...                         ...    ...   \n",
       "171755                                 NaN  [[Grocery & Gourmet Food]]  17.99   \n",
       "171756   {'Grocery & Gourmet Food': 54090}  [[Grocery & Gourmet Food]]  16.95   \n",
       "171757  {'Grocery & Gourmet Food': 133517}  [[Grocery & Gourmet Food]]  16.55   \n",
       "171758                                 NaN  [[Grocery & Gourmet Food]]    NaN   \n",
       "171759                                 NaN  [[Grocery & Gourmet Food]]    NaN   \n",
       "\n",
       "       brand  \n",
       "0        NaN  \n",
       "1        NaN  \n",
       "2        NaN  \n",
       "3        NaN  \n",
       "4        Mio  \n",
       "...      ...  \n",
       "171755   NaN  \n",
       "171756   NaN  \n",
       "171757   NaN  \n",
       "171758   NaN  \n",
       "171759   NaN  \n",
       "\n",
       "[171760 rows x 9 columns]"
      ]
     },
     "execution_count": 18,
     "metadata": {},
     "output_type": "execute_result"
    }
   ],
   "source": [
    "product_df"
   ]
  },
  {
   "cell_type": "code",
   "execution_count": 19,
   "metadata": {},
   "outputs": [],
   "source": [
    "asin_review_list = np.unique(list(review_df['asin']))\n",
    "\n",
    "count = 0\n",
    "related_products = []\n",
    "rel = {}\n",
    "idx = []\n",
    "# loop over all products in product_df\n",
    "for i in range(len(product_df)):\n",
    "    asin = product_df.iloc[i]['asin']\n",
    "    \n",
    "    # if product is in the review df, find its related products.\n",
    "    if asin in asin_review_list:\n",
    "        related = product_df.iloc[i]['related']\n",
    "        \n",
    "        # check that the product has related items\n",
    "        if str(related) != \"nan\":\n",
    "            related_prod = []\n",
    "            \n",
    "            # loop over every key: also viewed, also bought, etc.\n",
    "            for key in related.keys():\n",
    "                # check that every related product is also in review_df\n",
    "                for prod in related[key]:\n",
    "                    if prod in asin_review_list:\n",
    "                        related_prod.append(prod)\n",
    "            rel[i] = related_prod\n",
    "            related_products.append(related_prod)\n",
    "        else:\n",
    "            idx.append(i)\n",
    "    \n",
    "    else:\n",
    "        idx.append(i)"
   ]
  },
  {
   "cell_type": "code",
   "execution_count": 32,
   "metadata": {
    "scrolled": true
   },
   "outputs": [],
   "source": [
    "# remove indices in original df\n",
    "product_df2 = product_df.drop(idx)\n",
    "# make a new column \n",
    "product_df3 = product_df2.assign(related_products = related_products)\n",
    "# explode column related_products\n",
    "product_df3 = product_df3.explode('related_products')\n",
    "product_df3.to_csv(\"product_df3.csv\", index=False)"
   ]
  },
  {
   "cell_type": "markdown",
   "metadata": {},
   "source": [
    "Verify that the correct indices have been dropped :)"
   ]
  },
  {
   "cell_type": "code",
   "execution_count": 21,
   "metadata": {},
   "outputs": [],
   "source": [
    "a = set(list(product_df2.index))\n",
    "b = set(list(rel.keys()))"
   ]
  },
  {
   "cell_type": "code",
   "execution_count": 22,
   "metadata": {},
   "outputs": [
    {
     "data": {
      "text/plain": [
       "set()"
      ]
     },
     "execution_count": 22,
     "metadata": {},
     "output_type": "execute_result"
    }
   ],
   "source": [
    "a - a.intersection(b)"
   ]
  },
  {
   "cell_type": "markdown",
   "metadata": {},
   "source": [
    "# Network"
   ]
  },
  {
   "cell_type": "code",
   "execution_count": 29,
   "metadata": {},
   "outputs": [],
   "source": [
    "import networkx as nx"
   ]
  },
  {
   "cell_type": "code",
   "execution_count": 33,
   "metadata": {
    "scrolled": false
   },
   "outputs": [
    {
     "data": {
      "text/html": [
       "<div>\n",
       "<style scoped>\n",
       "    .dataframe tbody tr th:only-of-type {\n",
       "        vertical-align: middle;\n",
       "    }\n",
       "\n",
       "    .dataframe tbody tr th {\n",
       "        vertical-align: top;\n",
       "    }\n",
       "\n",
       "    .dataframe thead th {\n",
       "        text-align: right;\n",
       "    }\n",
       "</style>\n",
       "<table border=\"1\" class=\"dataframe\">\n",
       "  <thead>\n",
       "    <tr style=\"text-align: right;\">\n",
       "      <th></th>\n",
       "      <th>asin</th>\n",
       "      <th>description</th>\n",
       "      <th>title</th>\n",
       "      <th>imUrl</th>\n",
       "      <th>related</th>\n",
       "      <th>salesRank</th>\n",
       "      <th>categories</th>\n",
       "      <th>price</th>\n",
       "      <th>brand</th>\n",
       "      <th>related_products</th>\n",
       "    </tr>\n",
       "  </thead>\n",
       "  <tbody>\n",
       "    <tr>\n",
       "      <th>0</th>\n",
       "      <td>616719923X</td>\n",
       "      <td>Green Tea Flavor Kit Kat have quickly become t...</td>\n",
       "      <td>Japanese Kit Kat Maccha Green Tea Flavor (5 Ba...</td>\n",
       "      <td>http://ecx.images-amazon.com/images/I/51LdEao6...</td>\n",
       "      <td>{'also_bought': ['B00FD63L5W', 'B0047YG5UY', '...</td>\n",
       "      <td>{'Grocery &amp; Gourmet Food': 37305}</td>\n",
       "      <td>[['Grocery &amp; Gourmet Food']]</td>\n",
       "      <td>NaN</td>\n",
       "      <td>NaN</td>\n",
       "      <td>B0047YG5UY</td>\n",
       "    </tr>\n",
       "    <tr>\n",
       "      <th>1</th>\n",
       "      <td>616719923X</td>\n",
       "      <td>Green Tea Flavor Kit Kat have quickly become t...</td>\n",
       "      <td>Japanese Kit Kat Maccha Green Tea Flavor (5 Ba...</td>\n",
       "      <td>http://ecx.images-amazon.com/images/I/51LdEao6...</td>\n",
       "      <td>{'also_bought': ['B00FD63L5W', 'B0047YG5UY', '...</td>\n",
       "      <td>{'Grocery &amp; Gourmet Food': 37305}</td>\n",
       "      <td>[['Grocery &amp; Gourmet Food']]</td>\n",
       "      <td>NaN</td>\n",
       "      <td>NaN</td>\n",
       "      <td>B0002IZD02</td>\n",
       "    </tr>\n",
       "    <tr>\n",
       "      <th>2</th>\n",
       "      <td>616719923X</td>\n",
       "      <td>Green Tea Flavor Kit Kat have quickly become t...</td>\n",
       "      <td>Japanese Kit Kat Maccha Green Tea Flavor (5 Ba...</td>\n",
       "      <td>http://ecx.images-amazon.com/images/I/51LdEao6...</td>\n",
       "      <td>{'also_bought': ['B00FD63L5W', 'B0047YG5UY', '...</td>\n",
       "      <td>{'Grocery &amp; Gourmet Food': 37305}</td>\n",
       "      <td>[['Grocery &amp; Gourmet Food']]</td>\n",
       "      <td>NaN</td>\n",
       "      <td>NaN</td>\n",
       "      <td>B004N8LMFM</td>\n",
       "    </tr>\n",
       "    <tr>\n",
       "      <th>3</th>\n",
       "      <td>616719923X</td>\n",
       "      <td>Green Tea Flavor Kit Kat have quickly become t...</td>\n",
       "      <td>Japanese Kit Kat Maccha Green Tea Flavor (5 Ba...</td>\n",
       "      <td>http://ecx.images-amazon.com/images/I/51LdEao6...</td>\n",
       "      <td>{'also_bought': ['B00FD63L5W', 'B0047YG5UY', '...</td>\n",
       "      <td>{'Grocery &amp; Gourmet Food': 37305}</td>\n",
       "      <td>[['Grocery &amp; Gourmet Food']]</td>\n",
       "      <td>NaN</td>\n",
       "      <td>NaN</td>\n",
       "      <td>B0009F8JRC</td>\n",
       "    </tr>\n",
       "    <tr>\n",
       "      <th>4</th>\n",
       "      <td>616719923X</td>\n",
       "      <td>Green Tea Flavor Kit Kat have quickly become t...</td>\n",
       "      <td>Japanese Kit Kat Maccha Green Tea Flavor (5 Ba...</td>\n",
       "      <td>http://ecx.images-amazon.com/images/I/51LdEao6...</td>\n",
       "      <td>{'also_bought': ['B00FD63L5W', 'B0047YG5UY', '...</td>\n",
       "      <td>{'Grocery &amp; Gourmet Food': 37305}</td>\n",
       "      <td>[['Grocery &amp; Gourmet Food']]</td>\n",
       "      <td>NaN</td>\n",
       "      <td>NaN</td>\n",
       "      <td>B004HU7TC6</td>\n",
       "    </tr>\n",
       "    <tr>\n",
       "      <th>...</th>\n",
       "      <td>...</td>\n",
       "      <td>...</td>\n",
       "      <td>...</td>\n",
       "      <td>...</td>\n",
       "      <td>...</td>\n",
       "      <td>...</td>\n",
       "      <td>...</td>\n",
       "      <td>...</td>\n",
       "      <td>...</td>\n",
       "      <td>...</td>\n",
       "    </tr>\n",
       "    <tr>\n",
       "      <th>380298</th>\n",
       "      <td>B00K00H9I6</td>\n",
       "      <td>Harvested from the iconic snowy woods of Quebe...</td>\n",
       "      <td>Canadian Finest Maple Syrup - 100% Pure Certif...</td>\n",
       "      <td>http://ecx.images-amazon.com/images/I/41abh7Ho...</td>\n",
       "      <td>{'also_bought': ['B005P0LW66', 'B00JEKYNZA', '...</td>\n",
       "      <td>{'Grocery &amp; Gourmet Food': 1500}</td>\n",
       "      <td>[['Grocery &amp; Gourmet Food']]</td>\n",
       "      <td>18.95</td>\n",
       "      <td>NaN</td>\n",
       "      <td>B008RVURA2</td>\n",
       "    </tr>\n",
       "    <tr>\n",
       "      <th>380299</th>\n",
       "      <td>B00K00H9I6</td>\n",
       "      <td>Harvested from the iconic snowy woods of Quebe...</td>\n",
       "      <td>Canadian Finest Maple Syrup - 100% Pure Certif...</td>\n",
       "      <td>http://ecx.images-amazon.com/images/I/41abh7Ho...</td>\n",
       "      <td>{'also_bought': ['B005P0LW66', 'B00JEKYNZA', '...</td>\n",
       "      <td>{'Grocery &amp; Gourmet Food': 1500}</td>\n",
       "      <td>[['Grocery &amp; Gourmet Food']]</td>\n",
       "      <td>18.95</td>\n",
       "      <td>NaN</td>\n",
       "      <td>B002483TSQ</td>\n",
       "    </tr>\n",
       "    <tr>\n",
       "      <th>380300</th>\n",
       "      <td>B00K00H9I6</td>\n",
       "      <td>Harvested from the iconic snowy woods of Quebe...</td>\n",
       "      <td>Canadian Finest Maple Syrup - 100% Pure Certif...</td>\n",
       "      <td>http://ecx.images-amazon.com/images/I/41abh7Ho...</td>\n",
       "      <td>{'also_bought': ['B005P0LW66', 'B00JEKYNZA', '...</td>\n",
       "      <td>{'Grocery &amp; Gourmet Food': 1500}</td>\n",
       "      <td>[['Grocery &amp; Gourmet Food']]</td>\n",
       "      <td>18.95</td>\n",
       "      <td>NaN</td>\n",
       "      <td>B000LKXNG2</td>\n",
       "    </tr>\n",
       "    <tr>\n",
       "      <th>380301</th>\n",
       "      <td>B00KC0LGI8</td>\n",
       "      <td>NaN</td>\n",
       "      <td>Betty Crocker Dry Meals Suddenly Grain Salad, ...</td>\n",
       "      <td>http://ecx.images-amazon.com/images/I/61zqxqJi...</td>\n",
       "      <td>{'also_viewed': ['B00KSKIHVG', 'B00JWWM1T0', '...</td>\n",
       "      <td>{'Grocery &amp; Gourmet Food': 97624}</td>\n",
       "      <td>[['Grocery &amp; Gourmet Food']]</td>\n",
       "      <td>NaN</td>\n",
       "      <td>NaN</td>\n",
       "      <td>NaN</td>\n",
       "    </tr>\n",
       "    <tr>\n",
       "      <th>380302</th>\n",
       "      <td>B00KCJRVO2</td>\n",
       "      <td>Enjoy your gluten freedom. Chex Gluten Free Oa...</td>\n",
       "      <td>General Mills Cereals Chex Gluten Free Oatmeal...</td>\n",
       "      <td>http://ecx.images-amazon.com/images/I/51r064m2...</td>\n",
       "      <td>{'also_viewed': ['B00LG89RX6', 'B00LG8GDQU', '...</td>\n",
       "      <td>{'Grocery &amp; Gourmet Food': 157656}</td>\n",
       "      <td>[['Grocery &amp; Gourmet Food']]</td>\n",
       "      <td>13.00</td>\n",
       "      <td>NaN</td>\n",
       "      <td>B003VZCYHI</td>\n",
       "    </tr>\n",
       "  </tbody>\n",
       "</table>\n",
       "<p>380303 rows × 10 columns</p>\n",
       "</div>"
      ],
      "text/plain": [
       "              asin                                        description  \\\n",
       "0       616719923X  Green Tea Flavor Kit Kat have quickly become t...   \n",
       "1       616719923X  Green Tea Flavor Kit Kat have quickly become t...   \n",
       "2       616719923X  Green Tea Flavor Kit Kat have quickly become t...   \n",
       "3       616719923X  Green Tea Flavor Kit Kat have quickly become t...   \n",
       "4       616719923X  Green Tea Flavor Kit Kat have quickly become t...   \n",
       "...            ...                                                ...   \n",
       "380298  B00K00H9I6  Harvested from the iconic snowy woods of Quebe...   \n",
       "380299  B00K00H9I6  Harvested from the iconic snowy woods of Quebe...   \n",
       "380300  B00K00H9I6  Harvested from the iconic snowy woods of Quebe...   \n",
       "380301  B00KC0LGI8                                                NaN   \n",
       "380302  B00KCJRVO2  Enjoy your gluten freedom. Chex Gluten Free Oa...   \n",
       "\n",
       "                                                    title  \\\n",
       "0       Japanese Kit Kat Maccha Green Tea Flavor (5 Ba...   \n",
       "1       Japanese Kit Kat Maccha Green Tea Flavor (5 Ba...   \n",
       "2       Japanese Kit Kat Maccha Green Tea Flavor (5 Ba...   \n",
       "3       Japanese Kit Kat Maccha Green Tea Flavor (5 Ba...   \n",
       "4       Japanese Kit Kat Maccha Green Tea Flavor (5 Ba...   \n",
       "...                                                   ...   \n",
       "380298  Canadian Finest Maple Syrup - 100% Pure Certif...   \n",
       "380299  Canadian Finest Maple Syrup - 100% Pure Certif...   \n",
       "380300  Canadian Finest Maple Syrup - 100% Pure Certif...   \n",
       "380301  Betty Crocker Dry Meals Suddenly Grain Salad, ...   \n",
       "380302  General Mills Cereals Chex Gluten Free Oatmeal...   \n",
       "\n",
       "                                                    imUrl  \\\n",
       "0       http://ecx.images-amazon.com/images/I/51LdEao6...   \n",
       "1       http://ecx.images-amazon.com/images/I/51LdEao6...   \n",
       "2       http://ecx.images-amazon.com/images/I/51LdEao6...   \n",
       "3       http://ecx.images-amazon.com/images/I/51LdEao6...   \n",
       "4       http://ecx.images-amazon.com/images/I/51LdEao6...   \n",
       "...                                                   ...   \n",
       "380298  http://ecx.images-amazon.com/images/I/41abh7Ho...   \n",
       "380299  http://ecx.images-amazon.com/images/I/41abh7Ho...   \n",
       "380300  http://ecx.images-amazon.com/images/I/41abh7Ho...   \n",
       "380301  http://ecx.images-amazon.com/images/I/61zqxqJi...   \n",
       "380302  http://ecx.images-amazon.com/images/I/51r064m2...   \n",
       "\n",
       "                                                  related  \\\n",
       "0       {'also_bought': ['B00FD63L5W', 'B0047YG5UY', '...   \n",
       "1       {'also_bought': ['B00FD63L5W', 'B0047YG5UY', '...   \n",
       "2       {'also_bought': ['B00FD63L5W', 'B0047YG5UY', '...   \n",
       "3       {'also_bought': ['B00FD63L5W', 'B0047YG5UY', '...   \n",
       "4       {'also_bought': ['B00FD63L5W', 'B0047YG5UY', '...   \n",
       "...                                                   ...   \n",
       "380298  {'also_bought': ['B005P0LW66', 'B00JEKYNZA', '...   \n",
       "380299  {'also_bought': ['B005P0LW66', 'B00JEKYNZA', '...   \n",
       "380300  {'also_bought': ['B005P0LW66', 'B00JEKYNZA', '...   \n",
       "380301  {'also_viewed': ['B00KSKIHVG', 'B00JWWM1T0', '...   \n",
       "380302  {'also_viewed': ['B00LG89RX6', 'B00LG8GDQU', '...   \n",
       "\n",
       "                                 salesRank                    categories  \\\n",
       "0        {'Grocery & Gourmet Food': 37305}  [['Grocery & Gourmet Food']]   \n",
       "1        {'Grocery & Gourmet Food': 37305}  [['Grocery & Gourmet Food']]   \n",
       "2        {'Grocery & Gourmet Food': 37305}  [['Grocery & Gourmet Food']]   \n",
       "3        {'Grocery & Gourmet Food': 37305}  [['Grocery & Gourmet Food']]   \n",
       "4        {'Grocery & Gourmet Food': 37305}  [['Grocery & Gourmet Food']]   \n",
       "...                                    ...                           ...   \n",
       "380298    {'Grocery & Gourmet Food': 1500}  [['Grocery & Gourmet Food']]   \n",
       "380299    {'Grocery & Gourmet Food': 1500}  [['Grocery & Gourmet Food']]   \n",
       "380300    {'Grocery & Gourmet Food': 1500}  [['Grocery & Gourmet Food']]   \n",
       "380301   {'Grocery & Gourmet Food': 97624}  [['Grocery & Gourmet Food']]   \n",
       "380302  {'Grocery & Gourmet Food': 157656}  [['Grocery & Gourmet Food']]   \n",
       "\n",
       "        price brand related_products  \n",
       "0         NaN   NaN       B0047YG5UY  \n",
       "1         NaN   NaN       B0002IZD02  \n",
       "2         NaN   NaN       B004N8LMFM  \n",
       "3         NaN   NaN       B0009F8JRC  \n",
       "4         NaN   NaN       B004HU7TC6  \n",
       "...       ...   ...              ...  \n",
       "380298  18.95   NaN       B008RVURA2  \n",
       "380299  18.95   NaN       B002483TSQ  \n",
       "380300  18.95   NaN       B000LKXNG2  \n",
       "380301    NaN   NaN              NaN  \n",
       "380302  13.00   NaN       B003VZCYHI  \n",
       "\n",
       "[380303 rows x 10 columns]"
      ]
     },
     "execution_count": 33,
     "metadata": {},
     "output_type": "execute_result"
    }
   ],
   "source": [
    "product_df3 = pd.read_csv(\"product_df3.csv\")\n",
    "product_df3"
   ]
  },
  {
   "cell_type": "code",
   "execution_count": 72,
   "metadata": {
    "scrolled": true
   },
   "outputs": [
    {
     "data": {
      "text/plain": [
       "MultiIndex([('616719923X', 'B0002656QK'),\n",
       "            ('616719923X', 'B0002IZD02'),\n",
       "            ('616719923X', 'B0006G1K9I'),\n",
       "            ('616719923X', 'B0007U5J40'),\n",
       "            ('616719923X', 'B0009F8JRC'),\n",
       "            ('616719923X', 'B0009I6FFC'),\n",
       "            ('616719923X', 'B0009R0626'),\n",
       "            ('616719923X', 'B000B7S2QG'),\n",
       "            ('616719923X', 'B000H25Y0M'),\n",
       "            ('616719923X', 'B000HNF8ZW'),\n",
       "            ...\n",
       "            ('B00K00H9I6', 'B001D0676C'),\n",
       "            ('B00K00H9I6', 'B002483TSQ'),\n",
       "            ('B00K00H9I6', 'B00269YPB8'),\n",
       "            ('B00K00H9I6', 'B002TXT50W'),\n",
       "            ('B00K00H9I6', 'B0032RPLSY'),\n",
       "            ('B00K00H9I6', 'B008EM0JMU'),\n",
       "            ('B00K00H9I6', 'B008RJMXPQ'),\n",
       "            ('B00K00H9I6', 'B008RVURA2'),\n",
       "            ('B00K00H9I6', 'B00HDLZ072'),\n",
       "            ('B00KCJRVO2', 'B003VZCYHI')],\n",
       "           names=['asin', 'related_products'], length=293529)"
      ]
     },
     "execution_count": 72,
     "metadata": {},
     "output_type": "execute_result"
    }
   ],
   "source": [
    "# group by asin and related_products\n",
    "grouped_df = product_df3.groupby([\"asin\", \"related_products\"]).count()\n",
    "\n",
    "grouped_df.index"
   ]
  },
  {
   "cell_type": "code",
   "execution_count": 141,
   "metadata": {},
   "outputs": [],
   "source": [
    "o = {}\n",
    "for i in range(len(product_df3)):\n",
    "    if str(product_df3['related_products'].iloc[i]) != 'nan':\n",
    "        abe = tuple([product_df3.iloc[i]['asin'], product_df3.iloc[i]['related_products']])\n",
    "        if abe not in o.keys():\n",
    "            o[abe] = 0\n",
    "        o[abe] += 1\n",
    "len(o)"
   ]
  },
  {
   "cell_type": "code",
   "execution_count": 177,
   "metadata": {},
   "outputs": [],
   "source": [
    "# create weighted edges for directed graph\n",
    "weighted_edges = [(a, pa, c) for (a, pa), c  in zip(list(grouped_df.index), list(grouped_df.description))]\n",
    "\n",
    "G = nx.DiGraph()\n",
    "G.add_nodes_from(product_df3['asin'])\n",
    "G.add_weighted_edges_from(weighted_edges)\n",
    "\n",
    "# save network as json file\n",
    "data = nx.readwrite.json_graph.node_link_data(G)\n",
    "with open(\"directed_graph.json\", \"w\") as write_file:\n",
    "    json.dump(data, write_file)"
   ]
  },
  {
   "cell_type": "code",
   "execution_count": 164,
   "metadata": {
    "scrolled": false
   },
   "outputs": [
    {
     "name": "stdout",
     "output_type": "stream",
     "text": [
      "B000CMIYX6\n",
      "B003ULE0Y8\n",
      "B005K6ZLSK\n",
      "B003OGKCDC\n",
      "nan\n",
      "B002ZQ7B0O\n",
      "B0060AU32Y\n",
      "B000F52NU0\n",
      "B001M072X0\n",
      "B003USZF2C\n",
      "B0000YVCI0\n",
      "B001VNEA9M\n",
      "B000EMQF58\n",
      "B0052P0OBI\n",
      "B004051BLS\n",
      "B000SAFNPE\n",
      "B0047Z0QSK\n",
      "B0015Q94NM\n",
      "B0010O8PRA\n",
      "B001EO772A\n",
      "B000EUJK2K\n",
      "B000XK0FFW\n",
      "B000LKTXHA\n",
      "B000H7G4CO\n",
      "B004P13CN2\n",
      "B000IDC8S6\n",
      "B003QTZ2RS\n",
      "B00473XC9C\n",
      "B0046HGTJ4\n",
      "B003VIN0QE\n"
     ]
    },
    {
     "data": {
      "text/plain": [
       "30"
      ]
     },
     "execution_count": 164,
     "metadata": {},
     "output_type": "execute_result"
    }
   ],
   "source": [
    "missing = []\n",
    "for node in product_df3['related_products']:\n",
    "    if node not in list(G.nodes()):\n",
    "        if node not in missing:\n",
    "            print(node)\n",
    "            missing.append(node)\n",
    "            \n",
    "len(missing)"
   ]
  },
  {
   "cell_type": "code",
   "execution_count": 169,
   "metadata": {},
   "outputs": [
    {
     "data": {
      "text/plain": [
       "8456"
      ]
     },
     "execution_count": 169,
     "metadata": {},
     "output_type": "execute_result"
    }
   ],
   "source": [
    "H = nx.DiGraph()\n",
    "H.add_nodes_from(product_df3['asin'])\n",
    "H.number_of_nodes()"
   ]
  },
  {
   "cell_type": "code",
   "execution_count": 171,
   "metadata": {},
   "outputs": [
    {
     "data": {
      "text/plain": [
       "8485"
      ]
     },
     "execution_count": 171,
     "metadata": {},
     "output_type": "execute_result"
    }
   ],
   "source": [
    "# we don't want nan node so subtract 1\n",
    "8456+(30-1)"
   ]
  },
  {
   "cell_type": "code",
   "execution_count": 172,
   "metadata": {},
   "outputs": [
    {
     "name": "stdout",
     "output_type": "stream",
     "text": [
      "number of nodes: 8485\n",
      "number of edges: 293529\n",
      "network density: 0.004078\n"
     ]
    }
   ],
   "source": [
    "# number of nodes\n",
    "n_nodes = G.number_of_nodes()\n",
    "print(\"number of nodes:\", n_nodes)\n",
    "# number of edges\n",
    "n_edges = G.number_of_edges()\n",
    "print(\"number of edges:\", n_edges)\n",
    "\n",
    "# density\n",
    "L_max = n_nodes * (n_nodes - 1)\n",
    "density = n_edges / L_max\n",
    "print(\"network density: {:2f}\".format(density))"
   ]
  },
  {
   "cell_type": "code",
   "execution_count": 174,
   "metadata": {},
   "outputs": [
    {
     "name": "stdout",
     "output_type": "stream",
     "text": [
      "mean in degree 34.59387153800825\n",
      "median in degree 16.0\n",
      "mode of in degree 0\n",
      "min in degree 0\n",
      "max in degree 936\n"
     ]
    }
   ],
   "source": [
    "# in degree \n",
    "from scipy import stats\n",
    "\n",
    "print(\"mean in degree\", np.mean([i[1] for i in G.in_degree()]))\n",
    "print(\"median in degree\", np.median([i[1] for i in G.in_degree()]))\n",
    "print(\"mode of in degree\", stats.mode([i[1] for i in G.in_degree()]).mode[0])\n",
    "print(\"min in degree\", np.min([i[1] for i in G.in_degree()]))\n",
    "print(\"max in degree\", np.max([i[1] for i in G.in_degree()]))"
   ]
  },
  {
   "cell_type": "code",
   "execution_count": 175,
   "metadata": {},
   "outputs": [
    {
     "name": "stdout",
     "output_type": "stream",
     "text": [
      "mean out degree 34.59387153800825\n",
      "median out degree 33.0\n",
      "mode of out degree 0\n",
      "min out degree 0\n",
      "max out degree 101\n"
     ]
    }
   ],
   "source": [
    "print(\"mean out degree\", np.mean([i[1] for i in G.out_degree()]))\n",
    "print(\"median out degree\", np.median([i[1] for i in G.out_degree()]))\n",
    "print(\"mode of out degree\", stats.mode([i[1] for i in G.out_degree()]).mode[0])\n",
    "print(\"min out degree\", np.min([i[1] for i in G.out_degree()]))\n",
    "print(\"max out degree\", np.max([i[1] for i in G.out_degree()]))"
   ]
  }
 ],
 "metadata": {
  "kernelspec": {
   "display_name": "Python 3",
   "language": "python",
   "name": "python3"
  },
  "language_info": {
   "codemirror_mode": {
    "name": "ipython",
    "version": 3
   },
   "file_extension": ".py",
   "mimetype": "text/x-python",
   "name": "python",
   "nbconvert_exporter": "python",
   "pygments_lexer": "ipython3",
   "version": "3.8.5"
  }
 },
 "nbformat": 4,
 "nbformat_minor": 4
}
